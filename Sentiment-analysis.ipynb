{
 "cells": [
  {
   "cell_type": "code",
   "execution_count": 1,
   "id": "fdbcd60b-245f-462e-ba3d-0627089f2eeb",
   "metadata": {},
   "outputs": [],
   "source": [
    "import pandas as pd"
   ]
  },
  {
   "cell_type": "code",
   "execution_count": 2,
   "id": "8436fe3e-bf02-4eec-90ca-6d9430f90c3c",
   "metadata": {},
   "outputs": [],
   "source": [
    "train = pd.read_excel(\"train.xlsx\")\n",
    "test = pd.read_excel(\"test.xlsx\")\n",
    "valid = pd.read_excel(\"valid.xlsx\")"
   ]
  },
  {
   "cell_type": "code",
   "execution_count": 3,
   "id": "f5b73671-8453-411d-83f7-59eba3b64d21",
   "metadata": {},
   "outputs": [
    {
     "data": {
      "text/html": [
       "<div>\n",
       "<style scoped>\n",
       "    .dataframe tbody tr th:only-of-type {\n",
       "        vertical-align: middle;\n",
       "    }\n",
       "\n",
       "    .dataframe tbody tr th {\n",
       "        vertical-align: top;\n",
       "    }\n",
       "\n",
       "    .dataframe thead th {\n",
       "        text-align: right;\n",
       "    }\n",
       "</style>\n",
       "<table border=\"1\" class=\"dataframe\">\n",
       "  <thead>\n",
       "    <tr style=\"text-align: right;\">\n",
       "      <th></th>\n",
       "      <th>comment</th>\n",
       "      <th>target</th>\n",
       "    </tr>\n",
       "  </thead>\n",
       "  <tbody>\n",
       "    <tr>\n",
       "      <th>0</th>\n",
       "      <td>متفق  افراد کو جوڑنا سب کو ضرورت کی جگہ پر  کر...</td>\n",
       "      <td>neu</td>\n",
       "    </tr>\n",
       "    <tr>\n",
       "      <th>1</th>\n",
       "      <td>شاھد بایھی اپ کو ون ڈےکرکٹ میں واپس آجاے</td>\n",
       "      <td>neu</td>\n",
       "    </tr>\n",
       "    <tr>\n",
       "      <th>2</th>\n",
       "      <td>سر مجھے بھی ایک  دے دیں</td>\n",
       "      <td>neu</td>\n",
       "    </tr>\n",
       "    <tr>\n",
       "      <th>3</th>\n",
       "      <td>شاہد بھاہی جنرل راحیل کی طرح شیر ہے</td>\n",
       "      <td>neu</td>\n",
       "    </tr>\n",
       "    <tr>\n",
       "      <th>4</th>\n",
       "      <td>پوں پوں آفریدی</td>\n",
       "      <td>neu</td>\n",
       "    </tr>\n",
       "  </tbody>\n",
       "</table>\n",
       "</div>"
      ],
      "text/plain": [
       "                                             comment target\n",
       "0  متفق  افراد کو جوڑنا سب کو ضرورت کی جگہ پر  کر...    neu\n",
       "1           شاھد بایھی اپ کو ون ڈےکرکٹ میں واپس آجاے    neu\n",
       "2                            سر مجھے بھی ایک  دے دیں    neu\n",
       "3                شاہد بھاہی جنرل راحیل کی طرح شیر ہے    neu\n",
       "4                                     پوں پوں آفریدی    neu"
      ]
     },
     "execution_count": 3,
     "metadata": {},
     "output_type": "execute_result"
    }
   ],
   "source": [
    "train.head()"
   ]
  },
  {
   "cell_type": "code",
   "execution_count": 4,
   "id": "0e108d7f-b1e4-4c68-b49e-a63ef572964f",
   "metadata": {},
   "outputs": [
    {
     "data": {
      "text/html": [
       "<div>\n",
       "<style scoped>\n",
       "    .dataframe tbody tr th:only-of-type {\n",
       "        vertical-align: middle;\n",
       "    }\n",
       "\n",
       "    .dataframe tbody tr th {\n",
       "        vertical-align: top;\n",
       "    }\n",
       "\n",
       "    .dataframe thead th {\n",
       "        text-align: right;\n",
       "    }\n",
       "</style>\n",
       "<table border=\"1\" class=\"dataframe\">\n",
       "  <thead>\n",
       "    <tr style=\"text-align: right;\">\n",
       "      <th></th>\n",
       "      <th>comment</th>\n",
       "      <th>target</th>\n",
       "    </tr>\n",
       "  </thead>\n",
       "  <tbody>\n",
       "    <tr>\n",
       "      <th>0</th>\n",
       "      <td>زمان خان نے آوٹ نہ کر کے اچھا کیا باقی سب گیم ...</td>\n",
       "      <td>neu</td>\n",
       "    </tr>\n",
       "    <tr>\n",
       "      <th>1</th>\n",
       "      <td>اس غریب کے پاس کوئئ سفارش نہیں تبھی اس بیچارے ...</td>\n",
       "      <td>neu</td>\n",
       "    </tr>\n",
       "    <tr>\n",
       "      <th>2</th>\n",
       "      <td>پاکستانی ٹیم میں کمزور پلیئر امام الحق محمد نو...</td>\n",
       "      <td>neu</td>\n",
       "    </tr>\n",
       "    <tr>\n",
       "      <th>3</th>\n",
       "      <td>اچھا تھمب نیل میں لڑکی دکھانا لازمی ہے کیا بات ہے</td>\n",
       "      <td>neu</td>\n",
       "    </tr>\n",
       "    <tr>\n",
       "      <th>4</th>\n",
       "      <td>آپ میری تجویز پر عمل کریں گے  مجھے بڑی امید ھے</td>\n",
       "      <td>neu</td>\n",
       "    </tr>\n",
       "  </tbody>\n",
       "</table>\n",
       "</div>"
      ],
      "text/plain": [
       "                                             comment target\n",
       "0  زمان خان نے آوٹ نہ کر کے اچھا کیا باقی سب گیم ...    neu\n",
       "1  اس غریب کے پاس کوئئ سفارش نہیں تبھی اس بیچارے ...    neu\n",
       "2  پاکستانی ٹیم میں کمزور پلیئر امام الحق محمد نو...    neu\n",
       "3  اچھا تھمب نیل میں لڑکی دکھانا لازمی ہے کیا بات ہے    neu\n",
       "4     آپ میری تجویز پر عمل کریں گے  مجھے بڑی امید ھے    neu"
      ]
     },
     "execution_count": 4,
     "metadata": {},
     "output_type": "execute_result"
    }
   ],
   "source": [
    "test.head()"
   ]
  },
  {
   "cell_type": "code",
   "execution_count": 5,
   "id": "9b75adcb-8921-494e-a291-b1e1ad9f65c3",
   "metadata": {},
   "outputs": [
    {
     "data": {
      "text/html": [
       "<div>\n",
       "<style scoped>\n",
       "    .dataframe tbody tr th:only-of-type {\n",
       "        vertical-align: middle;\n",
       "    }\n",
       "\n",
       "    .dataframe tbody tr th {\n",
       "        vertical-align: top;\n",
       "    }\n",
       "\n",
       "    .dataframe thead th {\n",
       "        text-align: right;\n",
       "    }\n",
       "</style>\n",
       "<table border=\"1\" class=\"dataframe\">\n",
       "  <thead>\n",
       "    <tr style=\"text-align: right;\">\n",
       "      <th></th>\n",
       "      <th>comment</th>\n",
       "      <th>target</th>\n",
       "    </tr>\n",
       "  </thead>\n",
       "  <tbody>\n",
       "    <tr>\n",
       "      <th>0</th>\n",
       "      <td>کچے کیلے یہاں ناروے میں عام دکانوں سے کٹی حالت...</td>\n",
       "      <td>neu</td>\n",
       "    </tr>\n",
       "    <tr>\n",
       "      <th>1</th>\n",
       "      <td>کہیں سے بھی ملیں کیلے بس مل جائیں میں ریکوئسٹ ...</td>\n",
       "      <td>neu</td>\n",
       "    </tr>\n",
       "    <tr>\n",
       "      <th>2</th>\n",
       "      <td>آپ نے بھی سعود بھائی کی ترکیب سے بنائے تھے جاسمن؟</td>\n",
       "      <td>neu</td>\n",
       "    </tr>\n",
       "    <tr>\n",
       "      <th>3</th>\n",
       "      <td>کٹے ہوئے خشک کیلے پکوڑوں کی اس ترکیب کے لیے من...</td>\n",
       "      <td>neu</td>\n",
       "    </tr>\n",
       "    <tr>\n",
       "      <th>4</th>\n",
       "      <td>سعود بھائی اگر آپ وعدہ کریں کہ اسی طرح تفصیل س...</td>\n",
       "      <td>neu</td>\n",
       "    </tr>\n",
       "  </tbody>\n",
       "</table>\n",
       "</div>"
      ],
      "text/plain": [
       "                                             comment target\n",
       "0  کچے کیلے یہاں ناروے میں عام دکانوں سے کٹی حالت...    neu\n",
       "1  کہیں سے بھی ملیں کیلے بس مل جائیں میں ریکوئسٹ ...    neu\n",
       "2  آپ نے بھی سعود بھائی کی ترکیب سے بنائے تھے جاسمن؟    neu\n",
       "3  کٹے ہوئے خشک کیلے پکوڑوں کی اس ترکیب کے لیے من...    neu\n",
       "4  سعود بھائی اگر آپ وعدہ کریں کہ اسی طرح تفصیل س...    neu"
      ]
     },
     "execution_count": 5,
     "metadata": {},
     "output_type": "execute_result"
    }
   ],
   "source": [
    "valid.head()"
   ]
  },
  {
   "cell_type": "code",
   "execution_count": 6,
   "id": "4920bbef-fe76-44cc-b9fe-e2a94578b66a",
   "metadata": {},
   "outputs": [
    {
     "name": "stdout",
     "output_type": "stream",
     "text": [
      "(6399, 2) (2001, 2) (1602, 2)\n"
     ]
    }
   ],
   "source": [
    "print(train.shape,\n",
    "test.shape,\n",
    "valid.shape)"
   ]
  },
  {
   "cell_type": "code",
   "execution_count": 7,
   "id": "e0d74f4d-be5f-4a8c-9aca-a3698f181a64",
   "metadata": {},
   "outputs": [],
   "source": [
    "train = train.drop_duplicates()\n",
    "test = test.drop_duplicates()\n",
    "valid = valid.drop_duplicates()"
   ]
  },
  {
   "cell_type": "code",
   "execution_count": 8,
   "id": "8ec76b63-a445-4c35-97ee-3559f36a6e80",
   "metadata": {},
   "outputs": [
    {
     "name": "stdout",
     "output_type": "stream",
     "text": [
      "(6335, 2) (1984, 2) (1593, 2)\n"
     ]
    }
   ],
   "source": [
    "print(train.shape,\n",
    "test.shape,\n",
    "valid.shape)"
   ]
  },
  {
   "cell_type": "code",
   "execution_count": 9,
   "id": "5b949c0f-5bd4-4a5b-b929-5daac0ac8c88",
   "metadata": {},
   "outputs": [
    {
     "name": "stderr",
     "output_type": "stream",
     "text": [
      "C:\\Users\\Hizar\\AppData\\Local\\Programs\\Python\\Python39\\lib\\site-packages\\tensorflow_addons\\utils\\tfa_eol_msg.py:23: UserWarning: \n",
      "\n",
      "TensorFlow Addons (TFA) has ended development and introduction of new features.\n",
      "TFA has entered a minimal maintenance and release mode until a planned end of life in May 2024.\n",
      "Please modify downstream libraries to take dependencies from other repositories in our TensorFlow community (e.g. Keras, Keras-CV, and Keras-NLP). \n",
      "\n",
      "For more information see: https://github.com/tensorflow/addons/issues/2807 \n",
      "\n",
      "  warnings.warn(\n"
     ]
    }
   ],
   "source": [
    "import demoji\n",
    "import re\n",
    "\n",
    "from urduhack.preprocessing import replace_urls\n",
    "from urduhack.preprocessing import replace_numbers\n",
    "from urduhack.preprocessing import remove_punctuation\n",
    "from urduhack.preprocessing import remove_accents\n",
    "from urduhack.preprocessing import remove_english_alphabets\n",
    "from urduhack.preprocessing import normalize_whitespace\n",
    "from urduhack.normalization import normalize\n",
    "\n",
    "def clean_comment(comment):\n",
    "\n",
    "    comment = demoji.replace(comment,\"\")\n",
    "\n",
    "    comment = re.sub(r'@[A-Za-z0-9]+', '', comment)\n",
    "\n",
    "    comment = re.sub(r'#[A-Za-z0-9]*', '', comment)\n",
    "\n",
    "    comment = replace_urls(comment,replace_with=\"\")\n",
    "\n",
    "    comment = replace_numbers(comment,replace_with=\"\")\n",
    "\n",
    "    comment = remove_accents(comment)\n",
    "\n",
    "    comment = remove_english_alphabets(comment)\n",
    "\n",
    "    comment = normalize_whitespace(comment)\n",
    "\n",
    "    comment = remove_punctuation(comment)\n",
    "\n",
    "    comment = normalize(comment)\n",
    "\n",
    "    comment = re.sub(r'\\+', '', comment)\n",
    "\n",
    "    comment = re.sub(r'\\=', '', comment)\n",
    "\n",
    "    return comment"
   ]
  },
  {
   "cell_type": "code",
   "execution_count": 10,
   "id": "0b70e398-b7a9-4054-b024-43e7f2c62bf2",
   "metadata": {},
   "outputs": [],
   "source": [
    "for i in train.index:\n",
    "    a = train['comment'][i]\n",
    "    b = clean_comment(a)\n",
    "    train.loc[[i],['comment']] = b\n",
    "\n",
    "for i in valid.index:\n",
    "    a = valid['comment'][i]\n",
    "    b = clean_comment(a)\n",
    "    valid.loc[[i],['comment']] = b\n",
    "\n",
    "for i in test.index:\n",
    "    a = test['comment'][i]\n",
    "    b = clean_comment(a)\n",
    "    test.loc[[i],['comment']] = b"
   ]
  },
  {
   "cell_type": "code",
   "execution_count": 11,
   "id": "142e4933-64bd-4cff-84af-921fe699837e",
   "metadata": {},
   "outputs": [
    {
     "data": {
      "text/html": [
       "<div>\n",
       "<style scoped>\n",
       "    .dataframe tbody tr th:only-of-type {\n",
       "        vertical-align: middle;\n",
       "    }\n",
       "\n",
       "    .dataframe tbody tr th {\n",
       "        vertical-align: top;\n",
       "    }\n",
       "\n",
       "    .dataframe thead th {\n",
       "        text-align: right;\n",
       "    }\n",
       "</style>\n",
       "<table border=\"1\" class=\"dataframe\">\n",
       "  <thead>\n",
       "    <tr style=\"text-align: right;\">\n",
       "      <th></th>\n",
       "      <th>comment</th>\n",
       "      <th>target</th>\n",
       "    </tr>\n",
       "  </thead>\n",
       "  <tbody>\n",
       "    <tr>\n",
       "      <th>0</th>\n",
       "      <td>متفق افراد کو جوڑنا سب کو ضرورت کی جگہ پر کرنا...</td>\n",
       "      <td>neu</td>\n",
       "    </tr>\n",
       "    <tr>\n",
       "      <th>1</th>\n",
       "      <td>شاھد بایھی اپ کو ون ڈےکرکٹ میں واپس آجاے</td>\n",
       "      <td>neu</td>\n",
       "    </tr>\n",
       "    <tr>\n",
       "      <th>2</th>\n",
       "      <td>سر مجھے بھی ایک دے دیں</td>\n",
       "      <td>neu</td>\n",
       "    </tr>\n",
       "    <tr>\n",
       "      <th>3</th>\n",
       "      <td>شاہد بھاہی جنرل راحیل کی طرح شیر ہے</td>\n",
       "      <td>neu</td>\n",
       "    </tr>\n",
       "    <tr>\n",
       "      <th>4</th>\n",
       "      <td>پوں پوں آفریدی</td>\n",
       "      <td>neu</td>\n",
       "    </tr>\n",
       "  </tbody>\n",
       "</table>\n",
       "</div>"
      ],
      "text/plain": [
       "                                             comment target\n",
       "0  متفق افراد کو جوڑنا سب کو ضرورت کی جگہ پر کرنا...    neu\n",
       "1           شاھد بایھی اپ کو ون ڈےکرکٹ میں واپس آجاے    neu\n",
       "2                             سر مجھے بھی ایک دے دیں    neu\n",
       "3                شاہد بھاہی جنرل راحیل کی طرح شیر ہے    neu\n",
       "4                                     پوں پوں آفریدی    neu"
      ]
     },
     "execution_count": 11,
     "metadata": {},
     "output_type": "execute_result"
    }
   ],
   "source": [
    "train.head()"
   ]
  },
  {
   "cell_type": "code",
   "execution_count": 12,
   "id": "48588289-f34f-4f49-90ef-9981bef815f0",
   "metadata": {},
   "outputs": [],
   "source": [
    "stop_words = set(\"\"\"\n",
    "\n",
    " آ آئی آئیں آئے آتا آتی آتے آداب آدھ آدھا آدھی آدھے آس آمدید آنا آنسہ آنی آنے\n",
    " آپ آگے آہ آہا آیا اب ابھی ابے اتوار ارب اربویں ارے اس اسکا اسکی اسکے اسی اسے اف\n",
    " افوہ الاول البتہ الثانی الحرام السلام الف المکرم ان اندر انکا انکی انکے انہوں انہی انہیں اوئے اور\n",
    " اوپر اوہو اپ اپنا اپنوں اپنی اپنے اپنےآپ اکبر اکثر اگر اگرچہ اگست اہاہا ایسا ایسی ایسے ایک بائیں\n",
    " بار بارے بالکل باوجود باہر بج بجے بخیر برسات بشرطیکہ بعد بعض بغیر بلکہ بن بنا بناؤ بند\n",
    " بڑی بھر بھریں بھی بہار بہت بہتر بیگم تاکہ تاہم تب تجھ تجھی تجھے ترا تری تلک تم تمام\n",
    " تمہارا تمہاروں تمہاری تمہارے تمہیں تو تک تھا تھی تھیں تھے تہائی تیرا تیری تیرے تین جا جاؤ\n",
    " جائیں جائے جاتا جاتی جاتے جانی جانے جب جبکہ جدھر جس جسے جن جناب جنہوں جنہیں جو جہاں جی\n",
    " جیسا جیسوں جیسی جیسے جیٹھ حالانکہ حالاں حصہ حضرت خاطر خالی خدا خزاں خواہ خوب خود دائیں درمیان\n",
    " دریں دو دوران دوسرا دوسروں دوسری دوشنبہ دوں دکھائیں دگنا دی دیئے دیا دیتا دیتی دیتے دیر دینا دینی\n",
    " دینے دیکھو دیں دیے دے ذریعے رکھا رکھتا رکھتی رکھتے رکھنا رکھنی رکھنے رکھو رکھی رکھے رہ رہا\n",
    " رہتا رہتی رہتے رہنا رہنی رہنے رہو رہی رہیں رہے ساتھ سامنے ساڑھے سب سبھی سراسر سلام سمیت سوا\n",
    " سوائے سکا سکتا سکتے سہ سہی سی سے شام شاید شکریہ صاحب صاحبہ صرف ضرور طرح طرف طور\n",
    " علاوہ عین فروری فقط فلاں فی قبل قطا لئے لائی لائے لاتا لاتی لاتے لانا لانی لانے لایا لو\n",
    " لوجی لوگوں لگ لگا لگتا لگتی لگی لگیں لگے لہذا لی لیا لیتا لیتی لیتے لیکن لیں لیے\n",
    " لے ماسوا مت مجھ مجھی مجھے محترم محترمہ محترمی محض مرا مرحبا مری مرے مزید مس مسز مسٹر مطابق\n",
    " مطلق مل منٹ منٹوں مکرمی مگر مگھر مہربانی میرا میروں میری میرے میں نا نزدیک نما نو نومبر\n",
    " نہ نہیں نیز نیچے نے و وار واسطے واقعی والا والوں والی والے واہ وجہ ورنہ وعلیکم وغیرہ ولے\n",
    " وگرنہ وہ وہاں وہی وہیں ویسا ویسے ویں پاس پایا پر پس پلیز پون پونا پونی پونے پھاگن\n",
    " پھر پہ پہر پہلا پہلی پہلے پیر پیچھے چاہئے چاہتے چاہیئے چاہے چلا چلو چلیں چلے چناچہ چند چونکہ\n",
    " چوگنی چکی چکیں چکے چہارشنبہ چیت ڈالنا ڈالنی ڈالنے ڈالے کئے کا کاتک کاش کب کبھی کدھر کر\n",
    " کرتا کرتی کرتے کرم کرنا کرنے کرو کریں کرے کس کسی کسے کل کم کن کنہیں کو کوئی کون\n",
    " کونسا کونسے کچھ کہ کہا کہاں کہہ کہی کہیں کہے کی کیا کیسا کیسے کیونکر کیونکہ کیوں کیے\n",
    " کے گئی گئے گا گرما گرمی گنا گو گویا گھنٹا گھنٹوں گھنٹے گی گیا ہائیں ہائے ہاڑ ہاں ہر\n",
    " ہرچند ہرگز ہزار ہفتہ ہم ہمارا ہماری ہمارے ہمی ہمیں ہو ہوئی ہوئیں ہوئے ہوا ہوبہو ہوتا ہوتی\n",
    " ہوتیں ہوتے ہونا ہونگے ہونی ہونے ہوں ہی ہیلو ہیں ہے یا یات یعنی یک یہ یہاں یہی یہیں\n",
    "\n",
    "\n",
    "\"\"\".split())\n",
    "\n",
    "def remove_stopwords(text):\n",
    "    filtered_words = [word for word in text.split() if word not in stop_words]\n",
    "    return \" \".join(filtered_words)"
   ]
  },
  {
   "cell_type": "code",
   "execution_count": 13,
   "id": "b44128e0-2dbf-45dd-9766-8f15c1dbb3d3",
   "metadata": {},
   "outputs": [],
   "source": [
    "train[\"comment\"] = train.comment.map(remove_stopwords)\n",
    "valid[\"comment\"] = valid.comment.map(remove_stopwords)\n",
    "test[\"comment\"] = test.comment.map(remove_stopwords)"
   ]
  },
  {
   "cell_type": "code",
   "execution_count": 14,
   "id": "9a0bb518-9b6a-4ba9-a133-be5fe9106adb",
   "metadata": {},
   "outputs": [
    {
     "data": {
      "text/html": [
       "<div>\n",
       "<style scoped>\n",
       "    .dataframe tbody tr th:only-of-type {\n",
       "        vertical-align: middle;\n",
       "    }\n",
       "\n",
       "    .dataframe tbody tr th {\n",
       "        vertical-align: top;\n",
       "    }\n",
       "\n",
       "    .dataframe thead th {\n",
       "        text-align: right;\n",
       "    }\n",
       "</style>\n",
       "<table border=\"1\" class=\"dataframe\">\n",
       "  <thead>\n",
       "    <tr style=\"text-align: right;\">\n",
       "      <th></th>\n",
       "      <th>comment</th>\n",
       "      <th>target</th>\n",
       "    </tr>\n",
       "  </thead>\n",
       "  <tbody>\n",
       "    <tr>\n",
       "      <th>0</th>\n",
       "      <td>متفق افراد جوڑنا ضرورت جگہ میدان پرفیکٹ فیصلےک...</td>\n",
       "      <td>neu</td>\n",
       "    </tr>\n",
       "    <tr>\n",
       "      <th>1</th>\n",
       "      <td>شاھد بایھی ون ڈےکرکٹ واپس آجاے</td>\n",
       "      <td>neu</td>\n",
       "    </tr>\n",
       "    <tr>\n",
       "      <th>2</th>\n",
       "      <td>سر</td>\n",
       "      <td>neu</td>\n",
       "    </tr>\n",
       "    <tr>\n",
       "      <th>3</th>\n",
       "      <td>شاہد بھاہی جنرل راحیل شیر</td>\n",
       "      <td>neu</td>\n",
       "    </tr>\n",
       "    <tr>\n",
       "      <th>4</th>\n",
       "      <td>پوں پوں آفریدی</td>\n",
       "      <td>neu</td>\n",
       "    </tr>\n",
       "  </tbody>\n",
       "</table>\n",
       "</div>"
      ],
      "text/plain": [
       "                                             comment target\n",
       "0  متفق افراد جوڑنا ضرورت جگہ میدان پرفیکٹ فیصلےک...    neu\n",
       "1                     شاھد بایھی ون ڈےکرکٹ واپس آجاے    neu\n",
       "2                                                 سر    neu\n",
       "3                          شاہد بھاہی جنرل راحیل شیر    neu\n",
       "4                                     پوں پوں آفریدی    neu"
      ]
     },
     "execution_count": 14,
     "metadata": {},
     "output_type": "execute_result"
    }
   ],
   "source": [
    "train.head()"
   ]
  },
  {
   "cell_type": "code",
   "execution_count": 15,
   "id": "a6f0dcdd-1618-4c0a-ba08-5ee578bef252",
   "metadata": {},
   "outputs": [
    {
     "name": "stdout",
     "output_type": "stream",
     "text": [
      "Downloading data from https://github.com/urduhack/resources/releases/download/word_tokenizer/word_tokenizer.zip\n",
      "36788015/36788015 [==============================] - 105s 3us/step\n",
      "Downloading data from https://github.com/urduhack/resources/releases/download/pos_tagger/pos_tagger.zip\n",
      "2761433/2761433 [==============================] - 10s 4us/step\n",
      "Downloading data from https://github.com/urduhack/resources/releases/download/ner/ner.zip\n",
      "10469376/11723346 [=========================>....] - ETA: 3sDownloading data from https://github.com/urduhack/resources/releases/download/lemmatizer/ur_lemma_lookup.zip\n",
      "89078/89078 [==============================] - 0s 4us/step\n"
     ]
    }
   ],
   "source": [
    "import urduhack\n",
    "urduhack.download()\n",
    "from urduhack.models.lemmatizer import lemmatizer\n",
    "\n",
    "def lemitizeStr(text):\n",
    "    lemme_txt = \"\"\n",
    "    temp = lemmatizer.lemma_lookup(text)\n",
    "    for t in temp:\n",
    "        lemme_txt += t[0] + \" \"\n",
    "\n",
    "    return lemme_txt"
   ]
  },
  {
   "cell_type": "code",
   "execution_count": null,
   "id": "a7557cae-a667-490f-803b-52530ffee4c9",
   "metadata": {},
   "outputs": [],
   "source": []
  }
 ],
 "metadata": {
  "kernelspec": {
   "display_name": "Python 3 (ipykernel)",
   "language": "python",
   "name": "python3"
  },
  "language_info": {
   "codemirror_mode": {
    "name": "ipython",
    "version": 3
   },
   "file_extension": ".py",
   "mimetype": "text/x-python",
   "name": "python",
   "nbconvert_exporter": "python",
   "pygments_lexer": "ipython3",
   "version": "3.9.13"
  }
 },
 "nbformat": 4,
 "nbformat_minor": 5
}
