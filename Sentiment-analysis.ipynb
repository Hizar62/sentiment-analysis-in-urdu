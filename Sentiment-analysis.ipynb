{
 "cells": [
  {
   "cell_type": "code",
   "execution_count": 1,
   "id": "fdbcd60b-245f-462e-ba3d-0627089f2eeb",
   "metadata": {},
   "outputs": [],
   "source": [
    "import pandas as pd"
   ]
  },
  {
   "cell_type": "code",
   "execution_count": 2,
   "id": "8436fe3e-bf02-4eec-90ca-6d9430f90c3c",
   "metadata": {},
   "outputs": [],
   "source": [
    "train = pd.read_excel(\"train.xlsx\")\n",
    "test = pd.read_excel(\"test.xlsx\")\n",
    "valid = pd.read_excel(\"valid.xlsx\")"
   ]
  },
  {
   "cell_type": "code",
   "execution_count": 3,
   "id": "f5b73671-8453-411d-83f7-59eba3b64d21",
   "metadata": {},
   "outputs": [
    {
     "data": {
      "text/html": [
       "<div>\n",
       "<style scoped>\n",
       "    .dataframe tbody tr th:only-of-type {\n",
       "        vertical-align: middle;\n",
       "    }\n",
       "\n",
       "    .dataframe tbody tr th {\n",
       "        vertical-align: top;\n",
       "    }\n",
       "\n",
       "    .dataframe thead th {\n",
       "        text-align: right;\n",
       "    }\n",
       "</style>\n",
       "<table border=\"1\" class=\"dataframe\">\n",
       "  <thead>\n",
       "    <tr style=\"text-align: right;\">\n",
       "      <th></th>\n",
       "      <th>comment</th>\n",
       "      <th>target</th>\n",
       "    </tr>\n",
       "  </thead>\n",
       "  <tbody>\n",
       "    <tr>\n",
       "      <th>0</th>\n",
       "      <td>متفق  افراد کو جوڑنا سب کو ضرورت کی جگہ پر  کر...</td>\n",
       "      <td>neu</td>\n",
       "    </tr>\n",
       "    <tr>\n",
       "      <th>1</th>\n",
       "      <td>شاھد بایھی اپ کو ون ڈےکرکٹ میں واپس آجاے</td>\n",
       "      <td>neu</td>\n",
       "    </tr>\n",
       "    <tr>\n",
       "      <th>2</th>\n",
       "      <td>سر مجھے بھی ایک  دے دیں</td>\n",
       "      <td>neu</td>\n",
       "    </tr>\n",
       "    <tr>\n",
       "      <th>3</th>\n",
       "      <td>شاہد بھاہی جنرل راحیل کی طرح شیر ہے</td>\n",
       "      <td>neu</td>\n",
       "    </tr>\n",
       "    <tr>\n",
       "      <th>4</th>\n",
       "      <td>پوں پوں آفریدی</td>\n",
       "      <td>neu</td>\n",
       "    </tr>\n",
       "  </tbody>\n",
       "</table>\n",
       "</div>"
      ],
      "text/plain": [
       "                                             comment target\n",
       "0  متفق  افراد کو جوڑنا سب کو ضرورت کی جگہ پر  کر...    neu\n",
       "1           شاھد بایھی اپ کو ون ڈےکرکٹ میں واپس آجاے    neu\n",
       "2                            سر مجھے بھی ایک  دے دیں    neu\n",
       "3                شاہد بھاہی جنرل راحیل کی طرح شیر ہے    neu\n",
       "4                                     پوں پوں آفریدی    neu"
      ]
     },
     "execution_count": 3,
     "metadata": {},
     "output_type": "execute_result"
    }
   ],
   "source": [
    "train.head()"
   ]
  },
  {
   "cell_type": "code",
   "execution_count": 4,
   "id": "0e108d7f-b1e4-4c68-b49e-a63ef572964f",
   "metadata": {},
   "outputs": [
    {
     "data": {
      "text/html": [
       "<div>\n",
       "<style scoped>\n",
       "    .dataframe tbody tr th:only-of-type {\n",
       "        vertical-align: middle;\n",
       "    }\n",
       "\n",
       "    .dataframe tbody tr th {\n",
       "        vertical-align: top;\n",
       "    }\n",
       "\n",
       "    .dataframe thead th {\n",
       "        text-align: right;\n",
       "    }\n",
       "</style>\n",
       "<table border=\"1\" class=\"dataframe\">\n",
       "  <thead>\n",
       "    <tr style=\"text-align: right;\">\n",
       "      <th></th>\n",
       "      <th>comment</th>\n",
       "      <th>target</th>\n",
       "    </tr>\n",
       "  </thead>\n",
       "  <tbody>\n",
       "    <tr>\n",
       "      <th>0</th>\n",
       "      <td>زمان خان نے آوٹ نہ کر کے اچھا کیا باقی سب گیم ...</td>\n",
       "      <td>neu</td>\n",
       "    </tr>\n",
       "    <tr>\n",
       "      <th>1</th>\n",
       "      <td>اس غریب کے پاس کوئئ سفارش نہیں تبھی اس بیچارے ...</td>\n",
       "      <td>neu</td>\n",
       "    </tr>\n",
       "    <tr>\n",
       "      <th>2</th>\n",
       "      <td>پاکستانی ٹیم میں کمزور پلیئر امام الحق محمد نو...</td>\n",
       "      <td>neu</td>\n",
       "    </tr>\n",
       "    <tr>\n",
       "      <th>3</th>\n",
       "      <td>اچھا تھمب نیل میں لڑکی دکھانا لازمی ہے کیا بات ہے</td>\n",
       "      <td>neu</td>\n",
       "    </tr>\n",
       "    <tr>\n",
       "      <th>4</th>\n",
       "      <td>آپ میری تجویز پر عمل کریں گے  مجھے بڑی امید ھے</td>\n",
       "      <td>neu</td>\n",
       "    </tr>\n",
       "  </tbody>\n",
       "</table>\n",
       "</div>"
      ],
      "text/plain": [
       "                                             comment target\n",
       "0  زمان خان نے آوٹ نہ کر کے اچھا کیا باقی سب گیم ...    neu\n",
       "1  اس غریب کے پاس کوئئ سفارش نہیں تبھی اس بیچارے ...    neu\n",
       "2  پاکستانی ٹیم میں کمزور پلیئر امام الحق محمد نو...    neu\n",
       "3  اچھا تھمب نیل میں لڑکی دکھانا لازمی ہے کیا بات ہے    neu\n",
       "4     آپ میری تجویز پر عمل کریں گے  مجھے بڑی امید ھے    neu"
      ]
     },
     "execution_count": 4,
     "metadata": {},
     "output_type": "execute_result"
    }
   ],
   "source": [
    "test.head()"
   ]
  },
  {
   "cell_type": "code",
   "execution_count": 5,
   "id": "9b75adcb-8921-494e-a291-b1e1ad9f65c3",
   "metadata": {},
   "outputs": [
    {
     "data": {
      "text/html": [
       "<div>\n",
       "<style scoped>\n",
       "    .dataframe tbody tr th:only-of-type {\n",
       "        vertical-align: middle;\n",
       "    }\n",
       "\n",
       "    .dataframe tbody tr th {\n",
       "        vertical-align: top;\n",
       "    }\n",
       "\n",
       "    .dataframe thead th {\n",
       "        text-align: right;\n",
       "    }\n",
       "</style>\n",
       "<table border=\"1\" class=\"dataframe\">\n",
       "  <thead>\n",
       "    <tr style=\"text-align: right;\">\n",
       "      <th></th>\n",
       "      <th>comment</th>\n",
       "      <th>target</th>\n",
       "    </tr>\n",
       "  </thead>\n",
       "  <tbody>\n",
       "    <tr>\n",
       "      <th>0</th>\n",
       "      <td>کچے کیلے یہاں ناروے میں عام دکانوں سے کٹی حالت...</td>\n",
       "      <td>neu</td>\n",
       "    </tr>\n",
       "    <tr>\n",
       "      <th>1</th>\n",
       "      <td>کہیں سے بھی ملیں کیلے بس مل جائیں میں ریکوئسٹ ...</td>\n",
       "      <td>neu</td>\n",
       "    </tr>\n",
       "    <tr>\n",
       "      <th>2</th>\n",
       "      <td>آپ نے بھی سعود بھائی کی ترکیب سے بنائے تھے جاسمن؟</td>\n",
       "      <td>neu</td>\n",
       "    </tr>\n",
       "    <tr>\n",
       "      <th>3</th>\n",
       "      <td>کٹے ہوئے خشک کیلے پکوڑوں کی اس ترکیب کے لیے من...</td>\n",
       "      <td>neu</td>\n",
       "    </tr>\n",
       "    <tr>\n",
       "      <th>4</th>\n",
       "      <td>سعود بھائی اگر آپ وعدہ کریں کہ اسی طرح تفصیل س...</td>\n",
       "      <td>neu</td>\n",
       "    </tr>\n",
       "  </tbody>\n",
       "</table>\n",
       "</div>"
      ],
      "text/plain": [
       "                                             comment target\n",
       "0  کچے کیلے یہاں ناروے میں عام دکانوں سے کٹی حالت...    neu\n",
       "1  کہیں سے بھی ملیں کیلے بس مل جائیں میں ریکوئسٹ ...    neu\n",
       "2  آپ نے بھی سعود بھائی کی ترکیب سے بنائے تھے جاسمن؟    neu\n",
       "3  کٹے ہوئے خشک کیلے پکوڑوں کی اس ترکیب کے لیے من...    neu\n",
       "4  سعود بھائی اگر آپ وعدہ کریں کہ اسی طرح تفصیل س...    neu"
      ]
     },
     "execution_count": 5,
     "metadata": {},
     "output_type": "execute_result"
    }
   ],
   "source": [
    "valid.head()"
   ]
  },
  {
   "cell_type": "code",
   "execution_count": 6,
   "id": "4920bbef-fe76-44cc-b9fe-e2a94578b66a",
   "metadata": {},
   "outputs": [
    {
     "name": "stdout",
     "output_type": "stream",
     "text": [
      "(6399, 2) (2001, 2) (1602, 2)\n"
     ]
    }
   ],
   "source": [
    "print(train.shape,\n",
    "test.shape,\n",
    "valid.shape)"
   ]
  },
  {
   "cell_type": "code",
   "execution_count": 7,
   "id": "e0d74f4d-be5f-4a8c-9aca-a3698f181a64",
   "metadata": {},
   "outputs": [],
   "source": [
    "train = train.drop_duplicates()\n",
    "test = test.drop_duplicates()\n",
    "valid = valid.drop_duplicates()"
   ]
  },
  {
   "cell_type": "code",
   "execution_count": 8,
   "id": "8ec76b63-a445-4c35-97ee-3559f36a6e80",
   "metadata": {},
   "outputs": [
    {
     "name": "stdout",
     "output_type": "stream",
     "text": [
      "(6335, 2) (1984, 2) (1593, 2)\n"
     ]
    }
   ],
   "source": [
    "print(train.shape,\n",
    "test.shape,\n",
    "valid.shape)"
   ]
  },
  {
   "cell_type": "code",
   "execution_count": 9,
   "id": "5b949c0f-5bd4-4a5b-b929-5daac0ac8c88",
   "metadata": {},
   "outputs": [
    {
     "name": "stderr",
     "output_type": "stream",
     "text": [
      "C:\\Users\\Hizar\\AppData\\Local\\Programs\\Python\\Python39\\lib\\site-packages\\tensorflow_addons\\utils\\tfa_eol_msg.py:23: UserWarning: \n",
      "\n",
      "TensorFlow Addons (TFA) has ended development and introduction of new features.\n",
      "TFA has entered a minimal maintenance and release mode until a planned end of life in May 2024.\n",
      "Please modify downstream libraries to take dependencies from other repositories in our TensorFlow community (e.g. Keras, Keras-CV, and Keras-NLP). \n",
      "\n",
      "For more information see: https://github.com/tensorflow/addons/issues/2807 \n",
      "\n",
      "  warnings.warn(\n"
     ]
    }
   ],
   "source": [
    "import demoji\n",
    "import re\n",
    "\n",
    "from urduhack.preprocessing import replace_urls\n",
    "from urduhack.preprocessing import replace_numbers\n",
    "from urduhack.preprocessing import remove_punctuation\n",
    "from urduhack.preprocessing import remove_accents\n",
    "from urduhack.preprocessing import remove_english_alphabets\n",
    "from urduhack.preprocessing import normalize_whitespace\n",
    "from urduhack.normalization import normalize\n",
    "\n",
    "def clean_comment(comment):\n",
    "\n",
    "    comment = demoji.replace(comment,\"\")\n",
    "\n",
    "    comment = re.sub(r'@[A-Za-z0-9]+', '', comment)\n",
    "\n",
    "    comment = re.sub(r'#[A-Za-z0-9]*', '', comment)\n",
    "\n",
    "    comment = replace_urls(comment,replace_with=\"\")\n",
    "\n",
    "    comment = replace_numbers(comment,replace_with=\"\")\n",
    "\n",
    "    comment = remove_accents(comment)\n",
    "\n",
    "    comment = remove_english_alphabets(comment)\n",
    "\n",
    "    comment = normalize_whitespace(comment)\n",
    "\n",
    "    comment = remove_punctuation(comment)\n",
    "\n",
    "    comment = normalize(comment)\n",
    "\n",
    "    comment = re.sub(r'\\+', '', comment)\n",
    "\n",
    "    comment = re.sub(r'\\=', '', comment)\n",
    "\n",
    "    return comment"
   ]
  },
  {
   "cell_type": "code",
   "execution_count": 10,
   "id": "0b70e398-b7a9-4054-b024-43e7f2c62bf2",
   "metadata": {},
   "outputs": [],
   "source": [
    "for i in train.index:\n",
    "    a = train['comment'][i]\n",
    "    b = clean_comment(a)\n",
    "    train.loc[[i],['comment']] = b\n",
    "\n",
    "for i in valid.index:\n",
    "    a = valid['comment'][i]\n",
    "    b = clean_comment(a)\n",
    "    valid.loc[[i],['comment']] = b\n",
    "\n",
    "for i in test.index:\n",
    "    a = test['comment'][i]\n",
    "    b = clean_comment(a)\n",
    "    test.loc[[i],['comment']] = b"
   ]
  },
  {
   "cell_type": "code",
   "execution_count": 11,
   "id": "142e4933-64bd-4cff-84af-921fe699837e",
   "metadata": {},
   "outputs": [
    {
     "data": {
      "text/html": [
       "<div>\n",
       "<style scoped>\n",
       "    .dataframe tbody tr th:only-of-type {\n",
       "        vertical-align: middle;\n",
       "    }\n",
       "\n",
       "    .dataframe tbody tr th {\n",
       "        vertical-align: top;\n",
       "    }\n",
       "\n",
       "    .dataframe thead th {\n",
       "        text-align: right;\n",
       "    }\n",
       "</style>\n",
       "<table border=\"1\" class=\"dataframe\">\n",
       "  <thead>\n",
       "    <tr style=\"text-align: right;\">\n",
       "      <th></th>\n",
       "      <th>comment</th>\n",
       "      <th>target</th>\n",
       "    </tr>\n",
       "  </thead>\n",
       "  <tbody>\n",
       "    <tr>\n",
       "      <th>0</th>\n",
       "      <td>متفق افراد کو جوڑنا سب کو ضرورت کی جگہ پر کرنا...</td>\n",
       "      <td>neu</td>\n",
       "    </tr>\n",
       "    <tr>\n",
       "      <th>1</th>\n",
       "      <td>شاھد بایھی اپ کو ون ڈےکرکٹ میں واپس آجاے</td>\n",
       "      <td>neu</td>\n",
       "    </tr>\n",
       "    <tr>\n",
       "      <th>2</th>\n",
       "      <td>سر مجھے بھی ایک دے دیں</td>\n",
       "      <td>neu</td>\n",
       "    </tr>\n",
       "    <tr>\n",
       "      <th>3</th>\n",
       "      <td>شاہد بھاہی جنرل راحیل کی طرح شیر ہے</td>\n",
       "      <td>neu</td>\n",
       "    </tr>\n",
       "    <tr>\n",
       "      <th>4</th>\n",
       "      <td>پوں پوں آفریدی</td>\n",
       "      <td>neu</td>\n",
       "    </tr>\n",
       "  </tbody>\n",
       "</table>\n",
       "</div>"
      ],
      "text/plain": [
       "                                             comment target\n",
       "0  متفق افراد کو جوڑنا سب کو ضرورت کی جگہ پر کرنا...    neu\n",
       "1           شاھد بایھی اپ کو ون ڈےکرکٹ میں واپس آجاے    neu\n",
       "2                             سر مجھے بھی ایک دے دیں    neu\n",
       "3                شاہد بھاہی جنرل راحیل کی طرح شیر ہے    neu\n",
       "4                                     پوں پوں آفریدی    neu"
      ]
     },
     "execution_count": 11,
     "metadata": {},
     "output_type": "execute_result"
    }
   ],
   "source": [
    "train.head()"
   ]
  },
  {
   "cell_type": "code",
   "execution_count": 12,
   "id": "48588289-f34f-4f49-90ef-9981bef815f0",
   "metadata": {},
   "outputs": [],
   "source": [
    "stop_words = set(\"\"\"\n",
    "\n",
    " آ آئی آئیں آئے آتا آتی آتے آداب آدھ آدھا آدھی آدھے آس آمدید آنا آنسہ آنی آنے\n",
    " آپ آگے آہ آہا آیا اب ابھی ابے اتوار ارب اربویں ارے اس اسکا اسکی اسکے اسی اسے اف\n",
    " افوہ الاول البتہ الثانی الحرام السلام الف المکرم ان اندر انکا انکی انکے انہوں انہی انہیں اوئے اور\n",
    " اوپر اوہو اپ اپنا اپنوں اپنی اپنے اپنےآپ اکبر اکثر اگر اگرچہ اگست اہاہا ایسا ایسی ایسے ایک بائیں\n",
    " بار بارے بالکل باوجود باہر بج بجے بخیر برسات بشرطیکہ بعد بعض بغیر بلکہ بن بنا بناؤ بند\n",
    " بڑی بھر بھریں بھی بہار بہت بہتر بیگم تاکہ تاہم تب تجھ تجھی تجھے ترا تری تلک تم تمام\n",
    " تمہارا تمہاروں تمہاری تمہارے تمہیں تو تک تھا تھی تھیں تھے تہائی تیرا تیری تیرے تین جا جاؤ\n",
    " جائیں جائے جاتا جاتی جاتے جانی جانے جب جبکہ جدھر جس جسے جن جناب جنہوں جنہیں جو جہاں جی\n",
    " جیسا جیسوں جیسی جیسے جیٹھ حالانکہ حالاں حصہ حضرت خاطر خالی خدا خزاں خواہ خوب خود دائیں درمیان\n",
    " دریں دو دوران دوسرا دوسروں دوسری دوشنبہ دوں دکھائیں دگنا دی دیئے دیا دیتا دیتی دیتے دیر دینا دینی\n",
    " دینے دیکھو دیں دیے دے ذریعے رکھا رکھتا رکھتی رکھتے رکھنا رکھنی رکھنے رکھو رکھی رکھے رہ رہا\n",
    " رہتا رہتی رہتے رہنا رہنی رہنے رہو رہی رہیں رہے ساتھ سامنے ساڑھے سب سبھی سراسر سلام سمیت سوا\n",
    " سوائے سکا سکتا سکتے سہ سہی سی سے شام شاید شکریہ صاحب صاحبہ صرف ضرور طرح طرف طور\n",
    " علاوہ عین فروری فقط فلاں فی قبل قطا لئے لائی لائے لاتا لاتی لاتے لانا لانی لانے لایا لو\n",
    " لوجی لوگوں لگ لگا لگتا لگتی لگی لگیں لگے لہذا لی لیا لیتا لیتی لیتے لیکن لیں لیے\n",
    " لے ماسوا مت مجھ مجھی مجھے محترم محترمہ محترمی محض مرا مرحبا مری مرے مزید مس مسز مسٹر مطابق\n",
    " مطلق مل منٹ منٹوں مکرمی مگر مگھر مہربانی میرا میروں میری میرے میں نا نزدیک نما نو نومبر\n",
    " نہ نہیں نیز نیچے نے و وار واسطے واقعی والا والوں والی والے واہ وجہ ورنہ وعلیکم وغیرہ ولے\n",
    " وگرنہ وہ وہاں وہی وہیں ویسا ویسے ویں پاس پایا پر پس پلیز پون پونا پونی پونے پھاگن\n",
    " پھر پہ پہر پہلا پہلی پہلے پیر پیچھے چاہئے چاہتے چاہیئے چاہے چلا چلو چلیں چلے چناچہ چند چونکہ\n",
    " چوگنی چکی چکیں چکے چہارشنبہ چیت ڈالنا ڈالنی ڈالنے ڈالے کئے کا کاتک کاش کب کبھی کدھر کر\n",
    " کرتا کرتی کرتے کرم کرنا کرنے کرو کریں کرے کس کسی کسے کل کم کن کنہیں کو کوئی کون\n",
    " کونسا کونسے کچھ کہ کہا کہاں کہہ کہی کہیں کہے کی کیا کیسا کیسے کیونکر کیونکہ کیوں کیے\n",
    " کے گئی گئے گا گرما گرمی گنا گو گویا گھنٹا گھنٹوں گھنٹے گی گیا ہائیں ہائے ہاڑ ہاں ہر\n",
    " ہرچند ہرگز ہزار ہفتہ ہم ہمارا ہماری ہمارے ہمی ہمیں ہو ہوئی ہوئیں ہوئے ہوا ہوبہو ہوتا ہوتی\n",
    " ہوتیں ہوتے ہونا ہونگے ہونی ہونے ہوں ہی ہیلو ہیں ہے یا یات یعنی یک یہ یہاں یہی یہیں\n",
    "\n",
    "\n",
    "\"\"\".split())\n",
    "\n",
    "def remove_stopwords(text):\n",
    "    filtered_words = [word for word in text.split() if word not in stop_words]\n",
    "    return \" \".join(filtered_words)"
   ]
  },
  {
   "cell_type": "code",
   "execution_count": 13,
   "id": "b44128e0-2dbf-45dd-9766-8f15c1dbb3d3",
   "metadata": {},
   "outputs": [],
   "source": [
    "train[\"comment\"] = train.comment.map(remove_stopwords)\n",
    "valid[\"comment\"] = valid.comment.map(remove_stopwords)\n",
    "test[\"comment\"] = test.comment.map(remove_stopwords)"
   ]
  },
  {
   "cell_type": "code",
   "execution_count": 14,
   "id": "9a0bb518-9b6a-4ba9-a133-be5fe9106adb",
   "metadata": {},
   "outputs": [
    {
     "data": {
      "text/html": [
       "<div>\n",
       "<style scoped>\n",
       "    .dataframe tbody tr th:only-of-type {\n",
       "        vertical-align: middle;\n",
       "    }\n",
       "\n",
       "    .dataframe tbody tr th {\n",
       "        vertical-align: top;\n",
       "    }\n",
       "\n",
       "    .dataframe thead th {\n",
       "        text-align: right;\n",
       "    }\n",
       "</style>\n",
       "<table border=\"1\" class=\"dataframe\">\n",
       "  <thead>\n",
       "    <tr style=\"text-align: right;\">\n",
       "      <th></th>\n",
       "      <th>comment</th>\n",
       "      <th>target</th>\n",
       "    </tr>\n",
       "  </thead>\n",
       "  <tbody>\n",
       "    <tr>\n",
       "      <th>0</th>\n",
       "      <td>متفق افراد جوڑنا ضرورت جگہ میدان پرفیکٹ فیصلےک...</td>\n",
       "      <td>neu</td>\n",
       "    </tr>\n",
       "    <tr>\n",
       "      <th>1</th>\n",
       "      <td>شاھد بایھی ون ڈےکرکٹ واپس آجاے</td>\n",
       "      <td>neu</td>\n",
       "    </tr>\n",
       "    <tr>\n",
       "      <th>2</th>\n",
       "      <td>سر</td>\n",
       "      <td>neu</td>\n",
       "    </tr>\n",
       "    <tr>\n",
       "      <th>3</th>\n",
       "      <td>شاہد بھاہی جنرل راحیل شیر</td>\n",
       "      <td>neu</td>\n",
       "    </tr>\n",
       "    <tr>\n",
       "      <th>4</th>\n",
       "      <td>پوں پوں آفریدی</td>\n",
       "      <td>neu</td>\n",
       "    </tr>\n",
       "  </tbody>\n",
       "</table>\n",
       "</div>"
      ],
      "text/plain": [
       "                                             comment target\n",
       "0  متفق افراد جوڑنا ضرورت جگہ میدان پرفیکٹ فیصلےک...    neu\n",
       "1                     شاھد بایھی ون ڈےکرکٹ واپس آجاے    neu\n",
       "2                                                 سر    neu\n",
       "3                          شاہد بھاہی جنرل راحیل شیر    neu\n",
       "4                                     پوں پوں آفریدی    neu"
      ]
     },
     "execution_count": 14,
     "metadata": {},
     "output_type": "execute_result"
    }
   ],
   "source": [
    "train.head()"
   ]
  },
  {
   "cell_type": "code",
   "execution_count": 15,
   "id": "a6f0dcdd-1618-4c0a-ba08-5ee578bef252",
   "metadata": {},
   "outputs": [],
   "source": [
    "import urduhack\n",
    "urduhack.download()\n",
    "from urduhack.models.lemmatizer import lemmatizer\n",
    "\n",
    "def lemitizeStr(text):\n",
    "    lemme_txt = \"\"\n",
    "    temp = lemmatizer.lemma_lookup(text)\n",
    "    for t in temp:\n",
    "        lemme_txt += t[0] + \" \"\n",
    "\n",
    "    return lemme_txt"
   ]
  },
  {
   "cell_type": "code",
   "execution_count": 16,
   "id": "a7557cae-a667-490f-803b-52530ffee4c9",
   "metadata": {},
   "outputs": [],
   "source": [
    "train[\"comment\"] = train.comment.map(lemitizeStr)\n",
    "valid[\"comment\"] = valid.comment.map(lemitizeStr)\n",
    "test[\"comment\"] = test.comment.map(lemitizeStr)"
   ]
  },
  {
   "cell_type": "code",
   "execution_count": 17,
   "id": "dcbf58f2-8657-4998-9988-229ce35bde1c",
   "metadata": {},
   "outputs": [
    {
     "data": {
      "text/html": [
       "<div>\n",
       "<style scoped>\n",
       "    .dataframe tbody tr th:only-of-type {\n",
       "        vertical-align: middle;\n",
       "    }\n",
       "\n",
       "    .dataframe tbody tr th {\n",
       "        vertical-align: top;\n",
       "    }\n",
       "\n",
       "    .dataframe thead th {\n",
       "        text-align: right;\n",
       "    }\n",
       "</style>\n",
       "<table border=\"1\" class=\"dataframe\">\n",
       "  <thead>\n",
       "    <tr style=\"text-align: right;\">\n",
       "      <th></th>\n",
       "      <th>comment</th>\n",
       "      <th>target</th>\n",
       "    </tr>\n",
       "  </thead>\n",
       "  <tbody>\n",
       "    <tr>\n",
       "      <th>0</th>\n",
       "      <td>متفق افراد جوڑنا ضرورت جگہ میدان پرفیکٹ فیصلےک...</td>\n",
       "      <td>neu</td>\n",
       "    </tr>\n",
       "    <tr>\n",
       "      <th>1</th>\n",
       "      <td>شاھد بایھی ون ڈےکرکٹ واپس آجاے</td>\n",
       "      <td>neu</td>\n",
       "    </tr>\n",
       "    <tr>\n",
       "      <th>2</th>\n",
       "      <td>سر</td>\n",
       "      <td>neu</td>\n",
       "    </tr>\n",
       "    <tr>\n",
       "      <th>3</th>\n",
       "      <td>شاہد بھاہی جنرل راحیل شیر</td>\n",
       "      <td>neu</td>\n",
       "    </tr>\n",
       "    <tr>\n",
       "      <th>4</th>\n",
       "      <td>پوں پوں آفریدی</td>\n",
       "      <td>neu</td>\n",
       "    </tr>\n",
       "  </tbody>\n",
       "</table>\n",
       "</div>"
      ],
      "text/plain": [
       "                                             comment target\n",
       "0  متفق افراد جوڑنا ضرورت جگہ میدان پرفیکٹ فیصلےک...    neu\n",
       "1                    شاھد بایھی ون ڈےکرکٹ واپس آجاے     neu\n",
       "2                                                سر     neu\n",
       "3                         شاہد بھاہی جنرل راحیل شیر     neu\n",
       "4                                    پوں پوں آفریدی     neu"
      ]
     },
     "execution_count": 17,
     "metadata": {},
     "output_type": "execute_result"
    }
   ],
   "source": [
    "train.head()"
   ]
  },
  {
   "cell_type": "code",
   "execution_count": 18,
   "id": "664adeaf-785d-450e-8d6b-adcfaa2777d0",
   "metadata": {},
   "outputs": [
    {
     "data": {
      "text/plain": [
       "target\n",
       "neg    2441\n",
       "neu    2026\n",
       "pos    1868\n",
       "Name: count, dtype: int64"
      ]
     },
     "execution_count": 18,
     "metadata": {},
     "output_type": "execute_result"
    }
   ],
   "source": [
    "train['target'].value_counts()"
   ]
  },
  {
   "cell_type": "code",
   "execution_count": null,
   "id": "8d793db4-629a-4382-ac86-84794208209f",
   "metadata": {},
   "outputs": [],
   "source": []
  },
  {
   "cell_type": "code",
   "execution_count": 19,
   "id": "b9d3de3c-a0a9-4f9d-aefd-9642a4230e35",
   "metadata": {},
   "outputs": [
    {
     "data": {
      "text/plain": [
       "target\n",
       "neg    769\n",
       "neu    632\n",
       "pos    583\n",
       "Name: count, dtype: int64"
      ]
     },
     "execution_count": 19,
     "metadata": {},
     "output_type": "execute_result"
    }
   ],
   "source": [
    "test['target'].value_counts()"
   ]
  },
  {
   "cell_type": "code",
   "execution_count": 20,
   "id": "cfe5f58e-83ff-4e4f-a942-5ab1bbc6bd5f",
   "metadata": {},
   "outputs": [
    {
     "data": {
      "text/plain": [
       "target\n",
       "neg    616\n",
       "neu    504\n",
       "pos    473\n",
       "Name: count, dtype: int64"
      ]
     },
     "execution_count": 20,
     "metadata": {},
     "output_type": "execute_result"
    }
   ],
   "source": [
    "valid['target'].value_counts()\n"
   ]
  },
  {
   "cell_type": "code",
   "execution_count": 21,
   "id": "15499385-6351-4a8d-a344-85f056733426",
   "metadata": {},
   "outputs": [],
   "source": [
    "from sklearn.preprocessing import LabelEncoder\n",
    "\n",
    "class_label_encoder = LabelEncoder()\n",
    "\n",
    "train['target_encoded'] = class_label_encoder.fit_transform(train['target'])\n",
    "test['target_encoded'] = class_label_encoder.fit_transform(test['target'])\n",
    "valid['target_encoded'] = class_label_encoder.fit_transform(valid['target'])"
   ]
  },
  {
   "cell_type": "code",
   "execution_count": 22,
   "id": "850a42d5-4abb-4936-9259-effd8bbc3ba5",
   "metadata": {},
   "outputs": [
    {
     "data": {
      "text/plain": [
       "target_encoded\n",
       "0    2441\n",
       "1    2026\n",
       "2    1868\n",
       "Name: count, dtype: int64"
      ]
     },
     "execution_count": 22,
     "metadata": {},
     "output_type": "execute_result"
    }
   ],
   "source": [
    "train['target_encoded'].value_counts()"
   ]
  },
  {
   "cell_type": "code",
   "execution_count": 23,
   "id": "3bd0f366-10da-4e7e-983e-50debaeda5aa",
   "metadata": {},
   "outputs": [],
   "source": [
    "x_train = train[\"comment\"]\n",
    "x_test = test[\"comment\"]\n",
    "x_valid = valid[\"comment\"]\n",
    "y_train = train[[\"target_encoded\"]]\n",
    "y_test = test[[\"target_encoded\"]]\n",
    "y_valid = valid[[\"target_encoded\"]]"
   ]
  },
  {
   "cell_type": "code",
   "execution_count": 24,
   "id": "5d16e255-9f7b-4169-9799-fc4e9b6cc5a5",
   "metadata": {},
   "outputs": [],
   "source": [
    "df = pd.concat([train,valid,test])"
   ]
  },
  {
   "cell_type": "code",
   "execution_count": 25,
   "id": "b1faba2b-97ce-4590-88f5-9ebf71e3b573",
   "metadata": {},
   "outputs": [
    {
     "data": {
      "text/plain": [
       "(9912, 3)"
      ]
     },
     "execution_count": 25,
     "metadata": {},
     "output_type": "execute_result"
    }
   ],
   "source": [
    "df.shape"
   ]
  },
  {
   "cell_type": "code",
   "execution_count": 26,
   "id": "ec4f6a59-14a3-471d-9ae8-5cab94a900f1",
   "metadata": {},
   "outputs": [],
   "source": [
    "from collections import Counter\n",
    "\n",
    "def counter_word(text_col):\n",
    "    count = Counter()\n",
    "    for text in text_col.values:\n",
    "        for word in text.split():\n",
    "            count[word] += 1\n",
    "    return count"
   ]
  },
  {
   "cell_type": "code",
   "execution_count": 27,
   "id": "ac250cfc-28d1-4b20-9fd9-ed9925bbf6ef",
   "metadata": {},
   "outputs": [],
   "source": [
    "counter = counter_word(df.comment)"
   ]
  },
  {
   "cell_type": "code",
   "execution_count": 28,
   "id": "b6892bc9-f9ff-450d-bec9-0b9dfa6f07bf",
   "metadata": {},
   "outputs": [
    {
     "data": {
      "text/plain": [
       "12362"
      ]
     },
     "execution_count": 28,
     "metadata": {},
     "output_type": "execute_result"
    }
   ],
   "source": [
    "num_unique_words = len(counter)\n",
    "num_unique_words"
   ]
  },
  {
   "cell_type": "code",
   "execution_count": 29,
   "id": "7be9a884-37f6-4790-ae1b-e618bee3a4c4",
   "metadata": {},
   "outputs": [],
   "source": [
    "from tensorflow.keras.preprocessing.text import Tokenizer\n",
    "\n",
    "tokenizer = Tokenizer(num_words=num_unique_words)\n",
    "tokenizer.fit_on_texts(x_train)"
   ]
  },
  {
   "cell_type": "code",
   "execution_count": 30,
   "id": "f0538bca-18ea-40a8-8f29-8b04df32d487",
   "metadata": {},
   "outputs": [],
   "source": [
    "word_index = tokenizer.word_index"
   ]
  },
  {
   "cell_type": "code",
   "execution_count": 31,
   "id": "1ac26dae-19b7-49cd-8af2-5ca4225a42a1",
   "metadata": {},
   "outputs": [
    {
     "data": {
      "text/plain": [
       "9175"
      ]
     },
     "execution_count": 31,
     "metadata": {},
     "output_type": "execute_result"
    }
   ],
   "source": [
    "len(word_index)"
   ]
  },
  {
   "cell_type": "code",
   "execution_count": 32,
   "id": "2d394797-8ab1-455a-b133-64d85a2a2dc6",
   "metadata": {},
   "outputs": [],
   "source": [
    "X_train_seq = tokenizer.texts_to_sequences(x_train)\n",
    "X_valid_seq = tokenizer.texts_to_sequences(x_valid)\n",
    "X_test_seq = tokenizer.texts_to_sequences(x_test)"
   ]
  },
  {
   "cell_type": "code",
   "execution_count": 33,
   "id": "d983738c-0014-46d8-838d-8f48b24eb625",
   "metadata": {},
   "outputs": [
    {
     "data": {
      "text/plain": [
       "((6335, 20), (1593, 20), (1984, 20))"
      ]
     },
     "execution_count": 33,
     "metadata": {},
     "output_type": "execute_result"
    }
   ],
   "source": [
    "from tensorflow.keras.preprocessing.sequence import pad_sequences\n",
    "\n",
    "max_length = 20\n",
    "X_train_padded = pad_sequences(X_train_seq, maxlen=max_length, padding=\"post\")\n",
    "X_valid_padded = pad_sequences(X_valid_seq, maxlen=max_length, padding=\"post\")\n",
    "X_test_padded = pad_sequences(X_test_seq, maxlen=max_length, padding=\"post\")\n",
    "X_train_padded.shape, X_valid_padded.shape, X_test_padded.shape"
   ]
  },
  {
   "cell_type": "code",
   "execution_count": 34,
   "id": "de7886b3-1753-44ff-8ae0-9b817f3d6bba",
   "metadata": {},
   "outputs": [
    {
     "name": "stdout",
     "output_type": "stream",
     "text": [
      "آج ارجنٹینا میچ دیکھ ارجنٹینا جرمنی رکھوں ارجنٹینا برازیل ٹیم فاتح باقی انگلیڈ کھیل مایوس رونی صورتحال سنبھال \n"
     ]
    }
   ],
   "source": [
    "print(x_train.iloc[10])"
   ]
  },
  {
   "cell_type": "code",
   "execution_count": 35,
   "id": "a96ea4d8-c558-4458-a665-f5906539e162",
   "metadata": {},
   "outputs": [
    {
     "name": "stdout",
     "output_type": "stream",
     "text": [
      "[22, 1256, 3, 37, 1256, 491, 2759, 1256, 794, 2, 524, 149, 4055, 16, 664, 2114, 990, 2115]\n"
     ]
    }
   ],
   "source": [
    "print(X_train_seq[10])"
   ]
  },
  {
   "cell_type": "code",
   "execution_count": 36,
   "id": "b4103820-b1fc-489a-abda-cb52d2bfd72d",
   "metadata": {},
   "outputs": [
    {
     "name": "stdout",
     "output_type": "stream",
     "text": [
      "[  22 1256    3   37 1256  491 2759 1256  794    2  524  149 4055   16\n",
      "  664 2114  990 2115    0    0]\n"
     ]
    }
   ],
   "source": [
    "print(X_train_padded[10])"
   ]
  },
  {
   "cell_type": "code",
   "execution_count": 37,
   "id": "abd229b7-a192-43f3-bb15-b4d817a6f02d",
   "metadata": {},
   "outputs": [],
   "source": [
    "from sklearn.preprocessing import OneHotEncoder\n",
    "import pandas as pd\n",
    "\n",
    "encoder = OneHotEncoder(sparse_output=False)\n",
    "\n",
    "# Fit and transform the data\n",
    "encoded_array = encoder.fit_transform(train[['target']])\n",
    "\n",
    "# Create a DataFrame with the encoded data\n",
    "train_encoded = pd.DataFrame(encoded_array, columns=encoder.get_feature_names_out())\n",
    "\n",
    "# Fit and transform the data\n",
    "encoded_array = encoder.transform(valid[['target']])  # Use transform instead of fit_transform\n",
    "\n",
    "# Create a DataFrame with the encoded data\n",
    "valid_encoded = pd.DataFrame(encoded_array, columns=encoder.get_feature_names_out())\n",
    "\n",
    "# Fit and transform the data\n",
    "encoded_array = encoder.transform(test[['target']])  # Use transform instead of fit_transform\n",
    "\n",
    "# Create a DataFrame with the encoded data\n",
    "test_encoded = pd.DataFrame(encoded_array, columns=encoder.get_feature_names_out())\n"
   ]
  },
  {
   "cell_type": "code",
   "execution_count": 38,
   "id": "d9357680-9f52-4550-a9a9-7e809d0c24d1",
   "metadata": {},
   "outputs": [],
   "source": [
    "y_train, y_valid, y_test = train_encoded, valid_encoded, test_encoded"
   ]
  },
  {
   "cell_type": "code",
   "execution_count": 42,
   "id": "ebf0b106-366e-4a30-9f00-caeb1592888a",
   "metadata": {},
   "outputs": [
    {
     "name": "stdout",
     "output_type": "stream",
     "text": [
      "File not found: /kaggle/input/googlenewsvectorsnegative300/GoogleNews-vectors-negative300.bin\n"
     ]
    }
   ],
   "source": [
    "from gensim.models import KeyedVectors\n",
    "\n",
    "word2vec = KeyedVectors.load_word2vec_format('/kaggle/input/googlenewsvectorsnegative300/GoogleNews-vectors-negative300.bin',  binary=True, limit=10 ** 5)"
   ]
  },
  {
   "cell_type": "code",
   "execution_count": 43,
   "id": "af9f6941-50a0-46a3-9762-f4209be2f34b",
   "metadata": {},
   "outputs": [
    {
     "name": "stdout",
     "output_type": "stream",
     "text": [
      "File exists: False\n"
     ]
    }
   ],
   "source": [
    "import os\n",
    "\n",
    "file_path = '/kaggle/input/googlenewsvectorsnegative300/GoogleNews-vectors-negative300.bin'\n",
    "print(\"File exists:\", os.path.exists(file_path))\n"
   ]
  },
  {
   "cell_type": "code",
   "execution_count": null,
   "id": "7e6529ff-8f81-4627-ae67-0da2148c92fe",
   "metadata": {},
   "outputs": [],
   "source": []
  }
 ],
 "metadata": {
  "kernelspec": {
   "display_name": "Python 3 (ipykernel)",
   "language": "python",
   "name": "python3"
  },
  "language_info": {
   "codemirror_mode": {
    "name": "ipython",
    "version": 3
   },
   "file_extension": ".py",
   "mimetype": "text/x-python",
   "name": "python",
   "nbconvert_exporter": "python",
   "pygments_lexer": "ipython3",
   "version": "3.9.13"
  }
 },
 "nbformat": 4,
 "nbformat_minor": 5
}
